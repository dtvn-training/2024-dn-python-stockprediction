{
 "cells": [
  {
   "cell_type": "code",
   "execution_count": 1,
   "metadata": {},
   "outputs": [],
   "source": [
    "from selenium import webdriver\n",
    "from bs4 import BeautifulSoup\n",
    "import json\n",
    "import time\n"
   ]
  },
  {
   "cell_type": "code",
   "execution_count": 2,
   "metadata": {},
   "outputs": [],
   "source": [
    "banks_hose = ['ACB', 'BID', 'CTG','EIB', 'HDB', 'MBB', 'MSB','OCB','SHB','SSB','STB','TCB','TPB','VCB','VIB','VPB']\n",
    "banks_hnx = ['NVB', 'BAB']\n",
    "data = {}\n",
    "\n",
    "\n",
    "\n",
    "class Stock:\n",
    "    def __init__(self, date, open, high, low, close, volume):\n",
    "        self.date = date\n",
    "        self.open = open\n",
    "        self.high = high\n",
    "        self.low = low\n",
    "        self.close = close\n",
    "        self.volume = volume"
   ]
  },
  {
   "cell_type": "code",
   "execution_count": 3,
   "metadata": {},
   "outputs": [],
   "source": [
    "def get_data_from_web(bank):\n",
    "    print('bank',bank)\n",
    "    driver = webdriver.Chrome()\n",
    "    url = f'https://simplize.vn/co-phieu/{bank}/lich-su-gia'\n",
    "    driver.get(url)\n",
    "    next_button = driver.find_element(By.XPATH, 'XPath_của_nút_Next')\n",
    "    next_button.click()\n",
    "    time.sleep(5)\n",
    "\n",
    "    html = driver.page_source\n",
    "    soup = BeautifulSoup(html, 'html.parser')\n",
    "\n",
    "    tbody = soup.find('tbody', class_='simplize-table-tbody')\n",
    "    tr_simplize_table_row = tbody.findAll('tr',class_='simplize-table-row')\n",
    "    stockHistories = {}\n",
    "    for tr in tr_simplize_table_row:\n",
    "        # print('tr',tr)\n",
    "        h6_css_cvilom = tr.findAll('h6',class_='css-cvilom')\n",
    "        # print('h6',h6_css_cvilom[0])\n",
    "        stockHistory={}\n",
    "        date = h6_css_cvilom[0].text.strip()\n",
    "        # stockHistory['date'] = h6_css_cvilom[0].text.strip()\n",
    "        stockHistory['open'] = h6_css_cvilom[1].text.strip()\n",
    "        stockHistory['high'] = h6_css_cvilom[2].text.strip()\n",
    "        stockHistory['low'] = h6_css_cvilom[3].text.strip()\n",
    "        stockHistory['close'] = h6_css_cvilom[4].text.strip()\n",
    "        stockHistory['volume'] = h6_css_cvilom[5].text.strip()\n",
    "\n",
    "        stockHistories[date] = str(stockHistory)\n",
    "\n",
    "    data[bank] = stockHistories\n",
    "    return data[bank]"
   ]
  },
  {
   "cell_type": "code",
   "execution_count": 4,
   "metadata": {},
   "outputs": [],
   "source": [
    "def saveData(data):\n",
    "    # Chuyển đổi dữ liệu thành chuỗi JSON\n",
    "    json_data = json.dumps(data, indent=4)  # `indent` làm cho dữ liệu được hiển thị có cấu trúc\n",
    "    # print('json',json_data)\n",
    "\n",
    "    # Ghi dữ liệu JSON vào tệp\n",
    "    with open('datacop.json', 'w') as json_file:\n",
    "        json_file.write(json_data)"
   ]
  },
  {
   "cell_type": "code",
   "execution_count": 5,
   "metadata": {},
   "outputs": [
    {
     "name": "stdout",
     "output_type": "stream",
     "text": [
      "bank EIB\n"
     ]
    }
   ],
   "source": [
    "bank = banks_hose[3]\n",
    "data[bank] = get_data_from_web(bank)\n",
    "saveData(data)\n",
    "\n",
    "\n",
    "\n"
   ]
  },
  {
   "cell_type": "code",
   "execution_count": 12,
   "metadata": {},
   "outputs": [
    {
     "ename": "SyntaxError",
     "evalue": "invalid syntax. Perhaps you forgot a comma? (2394076635.py, line 10)",
     "output_type": "error",
     "traceback": [
      "\u001b[1;36m  Cell \u001b[1;32mIn[12], line 10\u001b[1;36m\u001b[0m\n\u001b[1;33m    element = driver.find_element_by_xpath(\"//*[@id=\"test\"]/div[2]/div/div/div[2]/div[1]/div/div[3]/ul/li[11]/div/svg/path\")\u001b[0m\n\u001b[1;37m                                           ^\u001b[0m\n\u001b[1;31mSyntaxError\u001b[0m\u001b[1;31m:\u001b[0m invalid syntax. Perhaps you forgot a comma?\n"
     ]
    }
   ],
   "source": [
    "from selenium import webdriver\n",
    "\n",
    "# Khởi tạo trình duyệt\n",
    "driver = webdriver.Chrome()\n",
    "\n",
    "# Mở trang web\n",
    "driver.get(\"https://simplize.vn/co-phieu/BID/lich-su-gia\")\n",
    "\n",
    "# Tìm phần tử bằng XPath\n",
    "element = driver.find_element(By.XPATH, \"//*[@id=\"test\"]/div[2]/div/div/div[2]/div[1]/div/div[3]/ul/li[11]/div/svg/path\")\n",
    "# Thực hiện các thao tác với phần tử\n",
    "\n",
    "# Đóng trình duyệt\n",
    "driver.quit()\n"
   ]
  },
  {
   "cell_type": "code",
   "execution_count": null,
   "metadata": {},
   "outputs": [],
   "source": []
  },
  {
   "cell_type": "code",
   "execution_count": null,
   "metadata": {},
   "outputs": [],
   "source": []
  },
  {
   "cell_type": "code",
   "execution_count": null,
   "metadata": {},
   "outputs": [],
   "source": [
    "\n",
    "\n"
   ]
  }
 ],
 "metadata": {
  "kernelspec": {
   "display_name": "Python 3",
   "language": "python",
   "name": "python3"
  },
  "language_info": {
   "codemirror_mode": {
    "name": "ipython",
    "version": 3
   },
   "file_extension": ".py",
   "mimetype": "text/x-python",
   "name": "python",
   "nbconvert_exporter": "python",
   "pygments_lexer": "ipython3",
   "version": "3.12.1"
  }
 },
 "nbformat": 4,
 "nbformat_minor": 2
}
