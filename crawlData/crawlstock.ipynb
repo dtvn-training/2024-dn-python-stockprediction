{
 "cells": [
  {
   "cell_type": "code",
   "execution_count": 63,
   "metadata": {},
   "outputs": [],
   "source": [
    "from selenium import webdriver\n",
    "from selenium.webdriver.common.by import By\n",
    "from selenium.webdriver.support.ui import WebDriverWait\n",
    "from selenium.webdriver.support import expected_conditions as EC\n",
    "from bs4 import BeautifulSoup\n",
    "import json\n",
    "import time\n"
   ]
  },
  {
   "cell_type": "code",
   "execution_count": 64,
   "metadata": {},
   "outputs": [],
   "source": [
    "banks_hose = ['ACB', 'BID', 'CTG','EIB', 'HDB', 'MBB', 'MSB','OCB','SHB','SSB','STB','TCB','TPB','VCB','VIB','VPB']\n",
    "banks_hnx = ['NVB', 'BAB']\n",
    "data = {}\n",
    "\n",
    "\n",
    "\n",
    "class Stock:\n",
    "    def __init__(self, date, open, high, low, close, volume):\n",
    "        self.date = date\n",
    "        self.open = open\n",
    "        self.high = high\n",
    "        self.low = low\n",
    "        self.close = close\n",
    "        self.volume = volume"
   ]
  },
  {
   "cell_type": "code",
   "execution_count": 65,
   "metadata": {},
   "outputs": [],
   "source": [
    "def get_data_from_web(bank):\n",
    "    print('bank',bank)\n",
    "    driver = webdriver.Chrome()\n",
    "    url = f'https://simplize.vn/co-phieu/{bank}/lich-su-gia'\n",
    "    driver.get(url)\n",
    "    next_button = WebDriverWait(driver, 2).until(\n",
    "        EC.element_to_be_clickable((By.XPATH, '//*[@id=\"test\"]/div[2]/div/div/div[2]/div[1]/div/div[3]/ul/li[9]'))\n",
    "    )\n",
    "    data[bank]={}\n",
    "    for i in range(1,20):    \n",
    "\n",
    "        html = driver.page_source\n",
    "        soup = BeautifulSoup(html, 'html.parser')\n",
    "\n",
    "        tbody = soup.find('tbody', class_='simplize-table-tbody')\n",
    "        tr_simplize_table_row = tbody.findAll('tr',class_='simplize-table-row')\n",
    "        for tr in tr_simplize_table_row:\n",
    "            h6_css_cvilom = tr.findAll('h6',class_='css-cvilom')\n",
    "            volumeIndex = len(h6_css_cvilom)-1\n",
    "            stockHistory={}\n",
    "            date = h6_css_cvilom[0].text.strip()\n",
    "            stockHistory['open'] = h6_css_cvilom[1].text.strip()\n",
    "            stockHistory['high'] = h6_css_cvilom[2].text.strip()\n",
    "            stockHistory['low'] = h6_css_cvilom[3].text.strip()\n",
    "            stockHistory['close'] = h6_css_cvilom[4].text.strip()\n",
    "            stockHistory['volume'] = h6_css_cvilom[volumeIndex].text.strip()\n",
    "            data[bank][date] = str(stockHistory)\n",
    "        next_button.click()\n",
    "        time.sleep(2)\n",
    "    print('finish {}',  bank)\n",
    "    return data[bank]"
   ]
  },
  {
   "cell_type": "code",
   "execution_count": 66,
   "metadata": {},
   "outputs": [],
   "source": [
    "def saveData(data):\n",
    "    # Chuyển đổi dữ liệu thành chuỗi JSON\n",
    "    json_data = json.dumps(data, indent=4)  # `indent` làm cho dữ liệu được hiển thị có cấu trúc\n",
    "    # print('json',json_data)\n",
    "\n",
    "    # Ghi dữ liệu JSON vào tệp\n",
    "    with open('data.json', 'w') as json_file:\n",
    "        json_file.write(json_data)"
   ]
  },
  {
   "cell_type": "code",
   "execution_count": 67,
   "metadata": {},
   "outputs": [
    {
     "name": "stdout",
     "output_type": "stream",
     "text": [
      "bank ACB\n",
      "finish {} ACB\n",
      "bank BID\n"
     ]
    },
    {
     "ename": "KeyboardInterrupt",
     "evalue": "",
     "output_type": "error",
     "traceback": [
      "\u001b[1;31m---------------------------------------------------------------------------\u001b[0m",
      "\u001b[1;31mKeyboardInterrupt\u001b[0m                         Traceback (most recent call last)",
      "Cell \u001b[1;32mIn[67], line 3\u001b[0m\n\u001b[0;32m      1\u001b[0m \u001b[38;5;28;01mfor\u001b[39;00m bank \u001b[38;5;129;01min\u001b[39;00m banks_hose:\n\u001b[0;32m      2\u001b[0m     data[bank] \u001b[38;5;241m=\u001b[39m {}\n\u001b[1;32m----> 3\u001b[0m     data[bank] \u001b[38;5;241m=\u001b[39m \u001b[43mget_data_from_web\u001b[49m\u001b[43m(\u001b[49m\u001b[43mbank\u001b[49m\u001b[43m)\u001b[49m\n\u001b[0;32m      4\u001b[0m     saveData(data)\n\u001b[0;32m      7\u001b[0m \u001b[38;5;28;01mfor\u001b[39;00m bank \u001b[38;5;129;01min\u001b[39;00m banks_hnx:\n",
      "Cell \u001b[1;32mIn[65], line 12\u001b[0m, in \u001b[0;36mget_data_from_web\u001b[1;34m(bank)\u001b[0m\n\u001b[0;32m     10\u001b[0m data[bank]\u001b[38;5;241m=\u001b[39m{}\n\u001b[0;32m     11\u001b[0m \u001b[38;5;28;01mfor\u001b[39;00m i \u001b[38;5;129;01min\u001b[39;00m \u001b[38;5;28mrange\u001b[39m(\u001b[38;5;241m1\u001b[39m,\u001b[38;5;241m20\u001b[39m):\n\u001b[1;32m---> 12\u001b[0m     \u001b[43mtime\u001b[49m\u001b[38;5;241;43m.\u001b[39;49m\u001b[43msleep\u001b[49m\u001b[43m(\u001b[49m\u001b[38;5;241;43m1\u001b[39;49m\u001b[43m)\u001b[49m \n\u001b[0;32m     13\u001b[0m     next_button\u001b[38;5;241m.\u001b[39mclick()\n\u001b[0;32m     14\u001b[0m     time\u001b[38;5;241m.\u001b[39msleep(\u001b[38;5;241m2\u001b[39m)\n",
      "\u001b[1;31mKeyboardInterrupt\u001b[0m: "
     ]
    }
   ],
   "source": [
    "for bank in banks_hose:\n",
    "    data[bank] = {}\n",
    "    data[bank] = get_data_from_web(bank)\n",
    "    saveData(data)\n",
    "\n",
    "\n",
    "for bank in banks_hnx:\n",
    "    data[bank] = {}\n",
    "    data[bank] = get_data_from_web(bank)\n",
    "    saveData(data)\n",
    "\n"
   ]
  },
  {
   "cell_type": "code",
   "execution_count": null,
   "metadata": {},
   "outputs": [],
   "source": []
  },
  {
   "cell_type": "code",
   "execution_count": null,
   "metadata": {},
   "outputs": [],
   "source": [
    "    "
   ]
  },
  {
   "cell_type": "code",
   "execution_count": null,
   "metadata": {},
   "outputs": [],
   "source": []
  },
  {
   "cell_type": "code",
   "execution_count": null,
   "metadata": {},
   "outputs": [],
   "source": []
  },
  {
   "cell_type": "code",
   "execution_count": null,
   "metadata": {},
   "outputs": [],
   "source": [
    "\n",
    "\n"
   ]
  }
 ],
 "metadata": {
  "kernelspec": {
   "display_name": "Python 3",
   "language": "python",
   "name": "python3"
  },
  "language_info": {
   "codemirror_mode": {
    "name": "ipython",
    "version": 3
   },
   "file_extension": ".py",
   "mimetype": "text/x-python",
   "name": "python",
   "nbconvert_exporter": "python",
   "pygments_lexer": "ipython3",
   "version": "3.12.1"
  }
 },
 "nbformat": 4,
 "nbformat_minor": 2
}
