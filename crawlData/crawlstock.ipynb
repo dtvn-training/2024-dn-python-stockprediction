{
 "cells": [
  {
   "cell_type": "code",
   "execution_count": 16,
   "metadata": {},
   "outputs": [],
   "source": [
    "from selenium import webdriver\n",
    "from selenium.webdriver.common.by import By\n",
    "from selenium.webdriver.support.ui import WebDriverWait\n",
    "from selenium.webdriver.support import expected_conditions as EC\n",
    "from bs4 import BeautifulSoup\n",
    "import json\n",
    "import time\n"
   ]
  },
  {
   "cell_type": "code",
   "execution_count": 17,
   "metadata": {},
   "outputs": [],
   "source": [
    "banks_hose = ['ACB', 'BID', 'CTG','EIB', 'HDB', 'MBB', 'MSB','OCB','SHB','SSB','STB','TCB','TPB','VCB','VIB','VPB']\n",
    "banks_hnx = ['NVB', 'BAB']\n",
    "data = {}\n",
    "\n",
    "\n",
    "\n",
    "class Stock:\n",
    "    def __init__(self, date, open, high, low, close, volume):\n",
    "        self.date = date\n",
    "        self.open = open\n",
    "        self.high = high\n",
    "        self.low = low\n",
    "        self.close = close\n",
    "        self.volume = volume"
   ]
  },
  {
   "cell_type": "code",
   "execution_count": 18,
   "metadata": {},
   "outputs": [],
   "source": [
    "def get_data_from_web(bank):\n",
    "    print('bank',bank)\n",
    "    driver = webdriver.Chrome()\n",
    "    url = f'https://simplize.vn/co-phieu/{bank}/lich-su-gia'\n",
    "    driver.get(url)\n",
    "    next_button = WebDriverWait(driver, 2).until(\n",
    "        EC.element_to_be_clickable((By.XPATH, '//*[@id=\"test\"]/div[2]/div/div/div[2]/div[1]/div/div[3]/ul/li[9]'))\n",
    "    )\n",
    "    data[bank]={}\n",
    "    for i in range(1,20):\n",
    "        time.sleep(2)    \n",
    "        next_button.click()\n",
    "        # time.sleep(2)\n",
    "        \n",
    "\n",
    "        html = driver.page_source\n",
    "        soup = BeautifulSoup(html, 'html.parser')\n",
    "\n",
    "        tbody = soup.find('tbody', class_='simplize-table-tbody')\n",
    "        tr_simplize_table_row = tbody.findAll('tr',class_='simplize-table-row')\n",
    "        stockHistories = {}\n",
    "        for tr in tr_simplize_table_row:\n",
    "            # print('tr',tr)\n",
    "            h6_css_cvilom = tr.findAll('h6',class_='css-cvilom')\n",
    "            # print('h6',h6_css_cvilom[0])\n",
    "            stockHistory={}\n",
    "            date = h6_css_cvilom[0].text.strip()\n",
    "            # stockHistory['date'] = h6_css_cvilom[0].text.strip()\n",
    "            stockHistory['open'] = h6_css_cvilom[1].text.strip()\n",
    "            stockHistory['high'] = h6_css_cvilom[2].text.strip()\n",
    "            stockHistory['low'] = h6_css_cvilom[3].text.strip()\n",
    "            stockHistory['close'] = h6_css_cvilom[4].text.strip()\n",
    "            stockHistory['volume'] = h6_css_cvilom[5].text.strip()\n",
    "\n",
    "            data[bank][date] = str(stockHistory)\n",
    "    time.sleep(5)\n",
    "    \n",
    "    return data[bank]"
   ]
  },
  {
   "cell_type": "code",
   "execution_count": 19,
   "metadata": {},
   "outputs": [],
   "source": [
    "def saveData(data):\n",
    "    # Chuyển đổi dữ liệu thành chuỗi JSON\n",
    "    json_data = json.dumps(data, indent=4)  # `indent` làm cho dữ liệu được hiển thị có cấu trúc\n",
    "    # print('json',json_data)\n",
    "\n",
    "    # Ghi dữ liệu JSON vào tệp\n",
    "    with open('data.json', 'w') as json_file:\n",
    "        json_file.write(json_data)"
   ]
  },
  {
   "cell_type": "code",
   "execution_count": 20,
   "metadata": {},
   "outputs": [
    {
     "name": "stdout",
     "output_type": "stream",
     "text": [
      "bank ACB\n",
      "bank BID\n",
      "bank CTG\n",
      "bank EIB\n",
      "bank HDB\n",
      "bank MBB\n",
      "bank MSB\n",
      "bank OCB\n",
      "bank SHB\n",
      "bank SSB\n",
      "bank STB\n",
      "bank TCB\n",
      "bank TPB\n",
      "bank VCB\n",
      "bank VIB\n",
      "bank VPB\n",
      "bank NVB\n",
      "bank BAB\n"
     ]
    }
   ],
   "source": [
    "for bank in banks_hose:\n",
    "    data[bank] = {}\n",
    "    data[bank] = get_data_from_web(bank)\n",
    "    saveData(data)\n",
    "\n",
    "\n",
    "for bank in banks_hnx:\n",
    "    data[bank] = {}\n",
    "    data[bank] = get_data_from_web(bank)\n",
    "    saveData(data)\n",
    "\n"
   ]
  },
  {
   "cell_type": "code",
   "execution_count": null,
   "metadata": {},
   "outputs": [],
   "source": [
    "\n"
   ]
  },
  {
   "cell_type": "code",
   "execution_count": null,
   "metadata": {},
   "outputs": [],
   "source": [
    "    "
   ]
  },
  {
   "cell_type": "code",
   "execution_count": null,
   "metadata": {},
   "outputs": [],
   "source": []
  },
  {
   "cell_type": "code",
   "execution_count": null,
   "metadata": {},
   "outputs": [],
   "source": []
  },
  {
   "cell_type": "code",
   "execution_count": null,
   "metadata": {},
   "outputs": [],
   "source": [
    "\n",
    "\n"
   ]
  }
 ],
 "metadata": {
  "kernelspec": {
   "display_name": "Python 3",
   "language": "python",
   "name": "python3"
  },
  "language_info": {
   "codemirror_mode": {
    "name": "ipython",
    "version": 3
   },
   "file_extension": ".py",
   "mimetype": "text/x-python",
   "name": "python",
   "nbconvert_exporter": "python",
   "pygments_lexer": "ipython3",
   "version": "3.12.1"
  }
 },
 "nbformat": 4,
 "nbformat_minor": 2
}
