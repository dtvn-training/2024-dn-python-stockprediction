{
 "cells": [
  {
   "cell_type": "code",
   "execution_count": 1,
   "metadata": {},
   "outputs": [
    {
     "name": "stderr",
     "output_type": "stream",
     "text": [
      "C:\\Users\\GIANG\\AppData\\Local\\Temp\\ipykernel_9784\\1869229098.py:4: DeprecationWarning: \n",
      "Pyarrow will become a required dependency of pandas in the next major release of pandas (pandas 3.0),\n",
      "(to allow more performant data types, such as the Arrow string type, and better interoperability with other libraries)\n",
      "but was not found to be installed on your system.\n",
      "If this would cause problems for you,\n",
      "please provide us feedback at https://github.com/pandas-dev/pandas/issues/54466\n",
      "        \n",
      "  import pandas as pd\n"
     ]
    }
   ],
   "source": [
    "import mysql.connector\n",
    "import json\n",
    "import uuid\n",
    "import pandas as pd"
   ]
  },
  {
   "cell_type": "code",
   "execution_count": 2,
   "metadata": {},
   "outputs": [],
   "source": [
    "# Connection parameters\n",
    "host = 'localhost'\n",
    "user = 'root'\n",
    "password = 'Ncgncg1102'\n",
    "database = 'stock_prediction'"
   ]
  },
  {
   "cell_type": "code",
   "execution_count": 3,
   "metadata": {},
   "outputs": [
    {
     "name": "stderr",
     "output_type": "stream",
     "text": [
      "<>:1: SyntaxWarning: invalid escape sequence '\\D'\n",
      "<>:1: SyntaxWarning: invalid escape sequence '\\D'\n",
      "C:\\Users\\GIANG\\AppData\\Local\\Temp\\ipykernel_9784\\2085821978.py:1: SyntaxWarning: invalid escape sequence '\\D'\n",
      "  data=\"C:\\\\Users\\\\GIANG\\DAC_Project\\\\Project_python\\\\2024-dn-python-stockprediction\\\\crawlData\\\\data.json\"\n",
      "C:\\Users\\GIANG\\AppData\\Local\\Temp\\ipykernel_9784\\2085821978.py:1: SyntaxWarning: invalid escape sequence '\\D'\n",
      "  data=\"C:\\\\Users\\\\GIANG\\DAC_Project\\\\Project_python\\\\2024-dn-python-stockprediction\\\\crawlData\\\\data.json\"\n"
     ]
    },
    {
     "ename": "FileNotFoundError",
     "evalue": "[Errno 2] No such file or directory: 'C:\\\\Users\\\\GIANG\\\\DAC_Project\\\\Project_python\\\\2024-dn-python-stockprediction\\\\crawlData\\\\data.json'",
     "output_type": "error",
     "traceback": [
      "\u001b[1;31m---------------------------------------------------------------------------\u001b[0m",
      "\u001b[1;31mFileNotFoundError\u001b[0m                         Traceback (most recent call last)",
      "Cell \u001b[1;32mIn[3], line 2\u001b[0m\n\u001b[0;32m      1\u001b[0m data\u001b[38;5;241m=\u001b[39m\u001b[38;5;124m\"\u001b[39m\u001b[38;5;124mC:\u001b[39m\u001b[38;5;130;01m\\\\\u001b[39;00m\u001b[38;5;124mUsers\u001b[39m\u001b[38;5;130;01m\\\\\u001b[39;00m\u001b[38;5;124mGIANG\u001b[39m\u001b[38;5;124m\\\u001b[39m\u001b[38;5;124mDAC_Project\u001b[39m\u001b[38;5;130;01m\\\\\u001b[39;00m\u001b[38;5;124mProject_python\u001b[39m\u001b[38;5;130;01m\\\\\u001b[39;00m\u001b[38;5;124m2024-dn-python-stockprediction\u001b[39m\u001b[38;5;130;01m\\\\\u001b[39;00m\u001b[38;5;124mcrawlData\u001b[39m\u001b[38;5;130;01m\\\\\u001b[39;00m\u001b[38;5;124mdata.json\u001b[39m\u001b[38;5;124m\"\u001b[39m\n\u001b[1;32m----> 2\u001b[0m \u001b[38;5;28;01mwith\u001b[39;00m \u001b[38;5;28;43mopen\u001b[39;49m\u001b[43m(\u001b[49m\u001b[43mdata\u001b[49m\u001b[43m,\u001b[49m\u001b[38;5;124;43m'\u001b[39;49m\u001b[38;5;124;43mr\u001b[39;49m\u001b[38;5;124;43m'\u001b[39;49m\u001b[43m)\u001b[49m \u001b[38;5;28;01mas\u001b[39;00m file:\n\u001b[0;32m      3\u001b[0m   data\u001b[38;5;241m=\u001b[39mjson\u001b[38;5;241m.\u001b[39mload(file)\n",
      "File \u001b[1;32m~\\AppData\\Roaming\\Python\\Python312\\site-packages\\IPython\\core\\interactiveshell.py:310\u001b[0m, in \u001b[0;36m_modified_open\u001b[1;34m(file, *args, **kwargs)\u001b[0m\n\u001b[0;32m    303\u001b[0m \u001b[38;5;28;01mif\u001b[39;00m file \u001b[38;5;129;01min\u001b[39;00m {\u001b[38;5;241m0\u001b[39m, \u001b[38;5;241m1\u001b[39m, \u001b[38;5;241m2\u001b[39m}:\n\u001b[0;32m    304\u001b[0m     \u001b[38;5;28;01mraise\u001b[39;00m \u001b[38;5;167;01mValueError\u001b[39;00m(\n\u001b[0;32m    305\u001b[0m         \u001b[38;5;124mf\u001b[39m\u001b[38;5;124m\"\u001b[39m\u001b[38;5;124mIPython won\u001b[39m\u001b[38;5;124m'\u001b[39m\u001b[38;5;124mt let you open fd=\u001b[39m\u001b[38;5;132;01m{\u001b[39;00mfile\u001b[38;5;132;01m}\u001b[39;00m\u001b[38;5;124m by default \u001b[39m\u001b[38;5;124m\"\u001b[39m\n\u001b[0;32m    306\u001b[0m         \u001b[38;5;124m\"\u001b[39m\u001b[38;5;124mas it is likely to crash IPython. If you know what you are doing, \u001b[39m\u001b[38;5;124m\"\u001b[39m\n\u001b[0;32m    307\u001b[0m         \u001b[38;5;124m\"\u001b[39m\u001b[38;5;124myou can use builtins\u001b[39m\u001b[38;5;124m'\u001b[39m\u001b[38;5;124m open.\u001b[39m\u001b[38;5;124m\"\u001b[39m\n\u001b[0;32m    308\u001b[0m     )\n\u001b[1;32m--> 310\u001b[0m \u001b[38;5;28;01mreturn\u001b[39;00m \u001b[43mio_open\u001b[49m\u001b[43m(\u001b[49m\u001b[43mfile\u001b[49m\u001b[43m,\u001b[49m\u001b[43m \u001b[49m\u001b[38;5;241;43m*\u001b[39;49m\u001b[43margs\u001b[49m\u001b[43m,\u001b[49m\u001b[43m \u001b[49m\u001b[38;5;241;43m*\u001b[39;49m\u001b[38;5;241;43m*\u001b[39;49m\u001b[43mkwargs\u001b[49m\u001b[43m)\u001b[49m\n",
      "\u001b[1;31mFileNotFoundError\u001b[0m: [Errno 2] No such file or directory: 'C:\\\\Users\\\\GIANG\\\\DAC_Project\\\\Project_python\\\\2024-dn-python-stockprediction\\\\crawlData\\\\data.json'"
     ]
    }
   ],
   "source": [
    "data=\"data.json\"\n",
    "with open(data,'r') as file:\n",
    "  data=json.load(file)"
   ]
  },
  {
   "cell_type": "code",
   "execution_count": null,
   "metadata": {},
   "outputs": [],
   "source": [
    "symboys=list(data.keys())\n",
    "name_symboys=[\"Ngân hàng TMCP Á Châu\",\"Ngân hàng TMCP Đầu tư và Phát triển Việt Nam\",\"Ngân hàng TMCP Công Thương Việt Nam\",\"Ngân hàng TMCP Xuất nhập khẩu Việt Nam\",\"Ngân hàng TMCP Phát triển TP.HCM\",\"Ngân hàng TMCP Quân Đội\",\"Ngân hàng TMCP Hàng hải Việt Nam\",\"Ngân hàng TMCP Phương Đông\",\"Ngân hàng TMCP Sài Gòn – Hà Nội\",\"Ngân hàng TMCP Đông Nam Á\",\"Ngân hàng TMCP Sài Gòn Thương Tín\",\"Ngân hàng TMCP Kỹ thương Việt Nam\",\"Ngân hàng TMCP Tiên Phong\",\"Ngân hàng TMCP Ngoại Thương Việt Nam\",\"Ngân hàng TMCP Quốc tế Việt Nam\",\"Ngân hàng TMCP Việt Nam Thịnh Vượng\",\"Ngân hàng TMCP Quốc Dân\",\"Ngân hàng TMCP Bắc Á\"]"
   ]
  },
  {
   "cell_type": "code",
   "execution_count": null,
   "metadata": {},
   "outputs": [],
   "source": [
    "stocks=[]\n",
    "for symboy in symboys:\n",
    "  stocks.append(list(data[symboy].values()))\n",
    "previous_close_prices=[]\n",
    "for stock in stocks:\n",
    "      previous_close_prices.append(eval(stock[0])[\"close\"])\n"
   ]
  },
  {
   "cell_type": "code",
   "execution_count": null,
   "metadata": {},
   "outputs": [],
   "source": [
    "stock_ids=[]\n",
    "for i in range (len(stocks)):\n",
    "    stock_ids.append(str(uuid.uuid4()))"
   ]
  },
  {
   "cell_type": "code",
   "execution_count": null,
   "metadata": {},
   "outputs": [],
   "source": [
    "#create data insert to stocklist\n",
    "data_stock_list_inserts=[]\n",
    "for i in range(len(stocks)):\n",
    "    data_stock_list_inserts.append((stock_ids[i],symboys[i],name_symboys[i],float(previous_close_prices[i].replace(',', ''))))"
   ]
  },
  {
   "cell_type": "code",
   "execution_count": null,
   "metadata": {},
   "outputs": [],
   "source": [
    "#convert dict to dataframe\n",
    "from ast import literal_eval  \n",
    "def convert_str_to_float(str_num):\n",
    "    return float(str_num.replace(',', ''))\n",
    "def convert_dict_to_df(data_dict):\n",
    "    data = {key: literal_eval(value) for key, value in data_dict.items()}\n",
    "    df = pd.DataFrame.from_dict(data, orient='index')\n",
    "    df.index = pd.to_datetime(df.index, format='%d/%m/%Y')\n",
    "    df = df.map(convert_str_to_float)\n",
    "    df=df.sort_index(ascending=True)\n",
    "    return df"
   ]
  },
  {
   "cell_type": "code",
   "execution_count": null,
   "metadata": {},
   "outputs": [],
   "source": [
    "data_historys=[]\n",
    "for symboy in symboys:\n",
    "  data_historys.append(data[symboy])\n",
    "data_history_dfs=[]\n",
    "for data_history in data_historys:\n",
    "    data_history_dfs.append(convert_dict_to_df(data_history))"
   ]
  },
  {
   "cell_type": "code",
   "execution_count": null,
   "metadata": {},
   "outputs": [],
   "source": [
    "# Create a list to store the data inserts\n",
    "data_history_inserts = []\n",
    "\n",
    "for stockid, dataframe in zip(stock_ids, data_history_dfs):\n",
    "    for index, row in dataframe.iterrows():\n",
    "        \n",
    "        date = row.name.date()  \n",
    "        open_price = row['open']  \n",
    "        high_price = row['high'] \n",
    "        low_price = row['low']  \n",
    "        close_price = row['close']  \n",
    "        volume = row['volume']  \n",
    "        record = (stockid, str(date), open_price, high_price, low_price, close_price, volume)\n",
    "       \n",
    "        data_history_inserts.append(record)"
   ]
  },
  {
   "cell_type": "code",
   "execution_count": null,
   "metadata": {},
   "outputs": [],
   "source": [
    "#insert to db\n",
    "try:\n",
    "    conn = mysql.connector.connect(\n",
    "        host=host,\n",
    "        user=user,\n",
    "        password=password,\n",
    "        database=database\n",
    "    )\n",
    "\n",
    "    if conn.is_connected():\n",
    "        print(\"Connected to MySQL\")\n",
    "        \n",
    "        cursor = conn.cursor()\n",
    "        insert_stocklist_query = \"INSERT INTO stocklist (stockid, symboy, company_name,previous_close_price) VALUES (%s, %s, %s,%s)\"\n",
    "        cursor.executemany(insert_stocklist_query, data_stock_list_inserts)\n",
    "\n",
    "        insert_stock_hist_query = \"INSERT INTO stockhistory (stockid, date, open, high, low, close, volume) VALUES (%s, %s, %s, %s, %s, %s, %s)\"\n",
    "        cursor.executemany(insert_stock_hist_query, data_history_inserts)\n",
    "        conn.commit()\n",
    "\n",
    "        cursor.close()\n",
    "        conn.close()\n",
    "\n",
    "except mysql.connector.Error as e:\n",
    "    print(f\"Error: {e}\")\n",
    "finally:\n",
    "    if conn.is_connected():\n",
    "        cursor.close()\n",
    "        conn.close()\n",
    "        print(\"MySQL connection closed\")"
   ]
  }
 ],
 "metadata": {
  "kernelspec": {
   "display_name": "Python 3",
   "language": "python",
   "name": "python3"
  },
  "language_info": {
   "codemirror_mode": {
    "name": "ipython",
    "version": 3
   },
   "file_extension": ".py",
   "mimetype": "text/x-python",
   "name": "python",
   "nbconvert_exporter": "python",
   "pygments_lexer": "ipython3",
   "version": "3.12.1"
  }
 },
 "nbformat": 4,
 "nbformat_minor": 2
}
